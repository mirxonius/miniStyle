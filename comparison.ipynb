{
 "cells": [
  {
   "cell_type": "markdown",
   "metadata": {},
   "source": [
    "# Comparing generated image quality for the three generator models"
   ]
  },
  {
   "cell_type": "code",
   "execution_count": 1,
   "metadata": {},
   "outputs": [],
   "source": [
    "import torch\n",
    "import os\n",
    "from PIL import Image\n",
    "\n",
    "\n",
    "from Networks import DCGenerator,DCStyleGenerator,SythesisNetwork"
   ]
  },
  {
   "cell_type": "code",
   "execution_count": 2,
   "metadata": {},
   "outputs": [],
   "source": [
    "model_dir = \"/home/mirksonius/Desktop/Duboko Učenje 2/miniSTLYE/models/\""
   ]
  },
  {
   "cell_type": "code",
   "execution_count": 3,
   "metadata": {},
   "outputs": [
    {
     "name": "stdout",
     "output_type": "stream",
     "text": [
      "DC_style_disc.pth\n",
      "DCgenerator.pth\n",
      "DC_Style_gen.pth\n",
      "DCDiscriminator.pth\n",
      "DCStyleGenerator_128.pth\n",
      "StyleSynthesisNetwork.pth\n"
     ]
    }
   ],
   "source": [
    "models = os.listdir(model_dir)\n",
    "for m in models:\n",
    "    print(m)"
   ]
  },
  {
   "cell_type": "code",
   "execution_count": 6,
   "metadata": {},
   "outputs": [],
   "source": [
    "pureDC = DCGenerator(latent_size=256)\n",
    "hybrid = DCStyleGenerator(latent_size=128)\n",
    "pureStyle = SythesisNetwork(latent_dim = 128)"
   ]
  },
  {
   "cell_type": "code",
   "execution_count": 7,
   "metadata": {},
   "outputs": [
    {
     "data": {
      "text/plain": [
       "<All keys matched successfully>"
      ]
     },
     "execution_count": 7,
     "metadata": {},
     "output_type": "execute_result"
    }
   ],
   "source": [
    "pureDC.load_state_dict(\n",
    "    torch.load(model_dir +\"DCgenerator.pth\")\n",
    ")\n",
    "\n",
    "hybrid.load_state_dict(\n",
    "    torch.load(model_dir + \"DCStyleGenerator_128.pth\")\n",
    ")"
   ]
  }
 ],
 "metadata": {
  "kernelspec": {
   "display_name": "Python 3.10.8 ('pytorch')",
   "language": "python",
   "name": "python3"
  },
  "language_info": {
   "codemirror_mode": {
    "name": "ipython",
    "version": 3
   },
   "file_extension": ".py",
   "mimetype": "text/x-python",
   "name": "python",
   "nbconvert_exporter": "python",
   "pygments_lexer": "ipython3",
   "version": "3.10.8"
  },
  "orig_nbformat": 4,
  "vscode": {
   "interpreter": {
    "hash": "06433ef58fdfeda314192f66e7ae9bf627f677a17f6e84730321e9518612e490"
   }
  }
 },
 "nbformat": 4,
 "nbformat_minor": 2
}
