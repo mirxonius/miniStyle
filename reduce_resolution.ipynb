{
 "cells": [
  {
   "cell_type": "code",
   "execution_count": 1,
   "id": "86df42cc-4b7f-4372-bf24-d22de9b37e2a",
   "metadata": {},
   "outputs": [],
   "source": [
    "import numpy as np\n",
    "import os\n",
    "from PIL import Image\n",
    "import matplotlib.pyplot as plt\n",
    "from tqdm import tqdm\n",
    "%matplotlib inline"
   ]
  },
  {
   "cell_type": "code",
   "execution_count": 2,
   "id": "14d809e2-e10f-4552-b3d1-c52c346c924f",
   "metadata": {},
   "outputs": [
    {
     "name": "stdout",
     "output_type": "stream",
     "text": [
      "60667\n"
     ]
    }
   ],
   "source": [
    "data_dir = \"img_align_celeba/\"\n",
    "files = os.listdir(data_dir)\n",
    "img = Image.open(data_dir+files[0])\n",
    "print(len(os.listdir(data_dir)))\n",
    "file_name = files[900]"
   ]
  },
  {
   "cell_type": "code",
   "execution_count": 3,
   "id": "2298ee31",
   "metadata": {},
   "outputs": [],
   "source": [
    "def resize_images(dataDir, width, height):\n",
    "    files = os.listdir(dataDir)\n",
    "    for file in tqdm(files):\n",
    "        with Image.open(dataDir+file) as img:\n",
    "            img = img.resize((width, height),Image.BICUBIC)\n",
    "            img.save(dataDir+file)"
   ]
  },
  {
   "cell_type": "code",
   "execution_count": null,
   "id": "328fd847",
   "metadata": {},
   "outputs": [
    {
     "name": "stderr",
     "output_type": "stream",
     "text": [
      "  0%|                                                 | 0/60667 [00:00<?, ?it/s]/tmp/ipykernel_38467/1293997738.py:5: DeprecationWarning: BICUBIC is deprecated and will be removed in Pillow 10 (2023-07-01). Use Resampling.BICUBIC instead.\n",
      "  img = img.resize((width, height),Image.BICUBIC)\n",
      " 79%|████████████████████████████▍       | 47953/60667 [01:05<00:17, 732.93it/s]"
     ]
    }
   ],
   "source": [
    "resize_images(data_dir,64,64)"
   ]
  },
  {
   "cell_type": "code",
   "execution_count": null,
   "id": "688aeec6",
   "metadata": {},
   "outputs": [],
   "source": [
    "img = Image.open(data_dir + file_name)\n",
    "plt.imshow(img)"
   ]
  }
 ],
 "metadata": {
  "kernelspec": {
   "display_name": "Python 3 (ipykernel)",
   "language": "python",
   "name": "python3"
  },
  "language_info": {
   "codemirror_mode": {
    "name": "ipython",
    "version": 3
   },
   "file_extension": ".py",
   "mimetype": "text/x-python",
   "name": "python",
   "nbconvert_exporter": "python",
   "pygments_lexer": "ipython3",
   "version": "3.9.13"
  },
  "vscode": {
   "interpreter": {
    "hash": "6eb37b5e2722885fca045595100adcbfc17fd4bd9e079bd511ea6da6201ab5ca"
   }
  }
 },
 "nbformat": 4,
 "nbformat_minor": 5
}
